{
 "cells": [
  {
   "cell_type": "code",
   "execution_count": 4,
   "metadata": {},
   "outputs": [],
   "source": [
    "from langchain.agents import AgentType, initialize_agent\n",
    "from langchain.tools import Tool\n",
    "from langchain import SerpAPIWrapper\n",
    "from langchain.chat_models import ChatOpenAI, ChatGooglePalm, ChatVertexAI\n",
    "from langchain.chains import RetrievalQA, ConversationalRetrievalChain, LLMChain\n",
    "from langchain.agents import AgentExecutor\n",
    "from langchain.embeddings import HuggingFaceEmbeddings\n",
    "from langchain.memory import ConversationBufferMemory\n",
    "from langchain_groq import ChatGroq\n",
    "from tools import retrival_question_answering\n",
    "from utilities import *\n",
    "from prompts import *\n",
    "import uuid"
   ]
  },
  {
   "cell_type": "code",
   "execution_count": 5,
   "metadata": {},
   "outputs": [
    {
     "name": "stdout",
     "output_type": "stream",
     "text": [
      " Your secrets ['chatgroq', 'google', 'openai', 'huggingface', 'serpapi', 'unknown']\n",
      "Done\n"
     ]
    }
   ],
   "source": [
    "set_API(display=True)"
   ]
  },
  {
   "cell_type": "code",
   "execution_count": 6,
   "metadata": {},
   "outputs": [
    {
     "name": "stdout",
     "output_type": "stream",
     "text": [
      "Done\n",
      "Done\n"
     ]
    }
   ],
   "source": [
    "set_API(name=\"chatgroq\", platform=\"c\")\n",
    "set_API(name=\"serpapi\", platform=\"s\")"
   ]
  },
  {
   "cell_type": "code",
   "execution_count": 7,
   "metadata": {},
   "outputs": [],
   "source": [
    "dict_ignore_files = {\n",
    "    \"dir\": [\".github\", \".git\", \".devcontainer\", \"docs\", \"examples\", \"sample_documents\"],\n",
    "    \"extension\": [ \"cff\",\"png\", \"jpg\", \"gif\", \"yaml\", \"cff\", \"Dockerfile\", \"lock\", \"toml\", \"odt\", \"gitmodules\", \"csv\", \"example\", \"ambr\", \"html\", \"typed\", \"xml\", \"yml\", \"avi\"],\n",
    "    \"file\": [\".gitignore\", \".dockerignore\", \".flake8\", \".gitattributes\", \"Dockerfile\", \"LICENSE\", \"Makefile\"]\n",
    "}"
   ]
  },
  {
   "cell_type": "code",
   "execution_count": 8,
   "metadata": {},
   "outputs": [
    {
     "name": "stderr",
     "output_type": "stream",
     "text": [
      "/home/roy/miniconda3/envs/PyTorch_env/lib/python3.11/site-packages/sentence_transformers/cross_encoder/CrossEncoder.py:11: TqdmExperimentalWarning: Using `tqdm.autonotebook.tqdm` in notebook mode. Use `tqdm.tqdm` instead to force console mode (e.g. in jupyter console)\n",
      "  from tqdm.autonotebook import tqdm, trange\n"
     ]
    }
   ],
   "source": [
    "embeddings = HuggingFaceEmbeddings(model_name=\"all-mpnet-base-v2\", cache_folder=\"../data/models/mpnet-base-v2/\")\n",
    "embeddings.client.save_pretrained(\"models/all-mpnet-base-v2\")\n",
    "# embeddings =  HuggingFaceEmbeddings(model_name=\"models/all-mpnet-base-v2\", cache_folder=\"../data/models/mpnet-base-v2/\")"
   ]
  },
  {
   "cell_type": "code",
   "execution_count": 9,
   "metadata": {},
   "outputs": [
    {
     "data": {
      "application/vnd.jupyter.widget-view+json": {
       "model_id": "18c68d6e805f4adb97c11d15aab90aed",
       "version_major": 2,
       "version_minor": 0
      },
      "text/plain": [
       "Output()"
      ]
     },
     "metadata": {},
     "output_type": "display_data"
    },
    {
     "data": {
      "text/html": [
       "<pre style=\"white-space:pre;overflow-x:auto;line-height:normal;font-family:Menlo,'DejaVu Sans Mono',consolas,'Courier New',monospace\">[WARNING]: Could not load /home/roy/Langchain/langchain/templates/csv-agent/titanic_data/index.faiss\n",
       "</pre>\n"
      ],
      "text/plain": [
       "[WARNING]: Could not load /home/roy/Langchain/langchain/templates/csv-agent/titanic_data/index.faiss\n"
      ]
     },
     "metadata": {},
     "output_type": "display_data"
    },
    {
     "data": {
      "text/html": [
       "<pre style=\"white-space:pre;overflow-x:auto;line-height:normal;font-family:Menlo,'DejaVu Sans Mono',consolas,'Courier New',monospace\">\n",
       "</pre>\n"
      ],
      "text/plain": [
       "\n"
      ]
     },
     "metadata": {},
     "output_type": "display_data"
    },
    {
     "data": {
      "text/html": [
       "<pre style=\"white-space:pre;overflow-x:auto;line-height:normal;font-family:Menlo,'DejaVu Sans Mono',consolas,'Courier New',monospace\">Timeout reached while detecting encoding for \n",
       "/home/roy/Langchain/langchain/templates/csv-agent/titanic_data/index.faiss\n",
       "</pre>\n"
      ],
      "text/plain": [
       "Timeout reached while detecting encoding for \n",
       "/home/roy/Langchain/langchain/templates/csv-agent/titanic_data/index.faiss\n"
      ]
     },
     "metadata": {},
     "output_type": "display_data"
    },
    {
     "data": {
      "text/html": [
       "<pre style=\"white-space:pre;overflow-x:auto;line-height:normal;font-family:Menlo,'DejaVu Sans Mono',consolas,'Courier New',monospace\">[WARNING]: Could not load /home/roy/Langchain/langchain/templates/rag-redis/data/nke-10k-2023.pdf\n",
       "</pre>\n"
      ],
      "text/plain": [
       "[WARNING]: Could not load /home/roy/Langchain/langchain/templates/rag-redis/data/nke-10k-2023.pdf\n"
      ]
     },
     "metadata": {},
     "output_type": "display_data"
    },
    {
     "data": {
      "text/html": [
       "<pre style=\"white-space:pre;overflow-x:auto;line-height:normal;font-family:Menlo,'DejaVu Sans Mono',consolas,'Courier New',monospace\">\n",
       "</pre>\n"
      ],
      "text/plain": [
       "\n"
      ]
     },
     "metadata": {},
     "output_type": "display_data"
    },
    {
     "data": {
      "text/html": [
       "<pre style=\"white-space:pre;overflow-x:auto;line-height:normal;font-family:Menlo,'DejaVu Sans Mono',consolas,'Courier New',monospace\">Timeout reached while detecting encoding for \n",
       "/home/roy/Langchain/langchain/templates/rag-redis/data/nke-10k-2023.pdf\n",
       "</pre>\n"
      ],
      "text/plain": [
       "Timeout reached while detecting encoding for \n",
       "/home/roy/Langchain/langchain/templates/rag-redis/data/nke-10k-2023.pdf\n"
      ]
     },
     "metadata": {},
     "output_type": "display_data"
    },
    {
     "data": {
      "text/html": [
       "<pre style=\"white-space:pre;overflow-x:auto;line-height:normal;font-family:Menlo,'DejaVu Sans Mono',consolas,'Courier New',monospace\">[WARNING]: Could not load /home/roy/Langchain/langchain/templates/intel-rag-xeon/data/nke-10k-2023.pdf\n",
       "</pre>\n"
      ],
      "text/plain": [
       "[WARNING]: Could not load /home/roy/Langchain/langchain/templates/intel-rag-xeon/data/nke-10k-2023.pdf\n"
      ]
     },
     "metadata": {},
     "output_type": "display_data"
    },
    {
     "data": {
      "text/html": [
       "<pre style=\"white-space:pre;overflow-x:auto;line-height:normal;font-family:Menlo,'DejaVu Sans Mono',consolas,'Courier New',monospace\">\n",
       "</pre>\n"
      ],
      "text/plain": [
       "\n"
      ]
     },
     "metadata": {},
     "output_type": "display_data"
    },
    {
     "data": {
      "text/html": [
       "<pre style=\"white-space:pre;overflow-x:auto;line-height:normal;font-family:Menlo,'DejaVu Sans Mono',consolas,'Courier New',monospace\">Timeout reached while detecting encoding for \n",
       "/home/roy/Langchain/langchain/templates/intel-rag-xeon/data/nke-10k-2023.pdf\n",
       "</pre>\n"
      ],
      "text/plain": [
       "Timeout reached while detecting encoding for \n",
       "/home/roy/Langchain/langchain/templates/intel-rag-xeon/data/nke-10k-2023.pdf\n"
      ]
     },
     "metadata": {},
     "output_type": "display_data"
    },
    {
     "data": {
      "text/html": [
       "<pre style=\"white-space:pre;overflow-x:auto;line-height:normal;font-family:Menlo,'DejaVu Sans Mono',consolas,'Courier New',monospace\"></pre>\n"
      ],
      "text/plain": []
     },
     "metadata": {},
     "output_type": "display_data"
    },
    {
     "data": {
      "text/html": [
       "<pre style=\"white-space:pre;overflow-x:auto;line-height:normal;font-family:Menlo,'DejaVu Sans Mono',consolas,'Courier New',monospace\">\n",
       "</pre>\n"
      ],
      "text/plain": [
       "\n"
      ]
     },
     "metadata": {},
     "output_type": "display_data"
    },
    {
     "data": {
      "application/vnd.jupyter.widget-view+json": {
       "model_id": "fcd3be15243d480da07be36bcc345e84",
       "version_major": 2,
       "version_minor": 0
      },
      "text/plain": [
       "Output()"
      ]
     },
     "metadata": {},
     "output_type": "display_data"
    },
    {
     "data": {
      "text/html": [
       "<pre style=\"white-space:pre;overflow-x:auto;line-height:normal;font-family:Menlo,'DejaVu Sans Mono',consolas,'Courier New',monospace\"></pre>\n"
      ],
      "text/plain": []
     },
     "metadata": {},
     "output_type": "display_data"
    },
    {
     "data": {
      "text/html": [
       "<pre style=\"white-space:pre;overflow-x:auto;line-height:normal;font-family:Menlo,'DejaVu Sans Mono',consolas,'Courier New',monospace\">\n",
       "</pre>\n"
      ],
      "text/plain": [
       "\n"
      ]
     },
     "metadata": {},
     "output_type": "display_data"
    },
    {
     "data": {
      "text/plain": [
       "'langchain'"
      ]
     },
     "execution_count": 9,
     "metadata": {},
     "output_type": "execute_result"
    }
   ],
   "source": [
    "folder_path = \"/home/roy/Langchain/langchain\"\n",
    "strut_file_path = dir_structure(path_to_dir = folder_path, ignore_files = {\"dir\": [], \"extension\": [], \"file\": []})\n",
    "summary_file_path = summarize_and_write(path_to_dir=folder_path, ignore_files = dict_ignore_files, llm = \"Llama3-70b-8192\")\n",
    "databasename = folder_path.split(\"/\")[-1]\n",
    "databasename"
   ]
  },
  {
   "cell_type": "code",
   "execution_count": 10,
   "metadata": {},
   "outputs": [
    {
     "data": {
      "application/vnd.jupyter.widget-view+json": {
       "model_id": "488381e777404dafb5f23a26c9091a0e",
       "version_major": 2,
       "version_minor": 0
      },
      "text/plain": [
       "Output()"
      ]
     },
     "metadata": {},
     "output_type": "display_data"
    },
    {
     "data": {
      "text/html": [
       "<pre style=\"white-space:pre;overflow-x:auto;line-height:normal;font-family:Menlo,'DejaVu Sans Mono',consolas,'Courier New',monospace\">[WARNING]: Could not load /home/roy/Langchain/langchain/templates/csv-agent/titanic_data/index.faiss\n",
       "</pre>\n"
      ],
      "text/plain": [
       "[WARNING]: Could not load /home/roy/Langchain/langchain/templates/csv-agent/titanic_data/index.faiss\n"
      ]
     },
     "metadata": {},
     "output_type": "display_data"
    },
    {
     "data": {
      "text/html": [
       "<pre style=\"white-space:pre;overflow-x:auto;line-height:normal;font-family:Menlo,'DejaVu Sans Mono',consolas,'Courier New',monospace\">\n",
       "</pre>\n"
      ],
      "text/plain": [
       "\n"
      ]
     },
     "metadata": {},
     "output_type": "display_data"
    },
    {
     "data": {
      "text/html": [
       "<pre style=\"white-space:pre;overflow-x:auto;line-height:normal;font-family:Menlo,'DejaVu Sans Mono',consolas,'Courier New',monospace\">Timeout reached while detecting encoding for \n",
       "/home/roy/Langchain/langchain/templates/csv-agent/titanic_data/index.faiss\n",
       "</pre>\n"
      ],
      "text/plain": [
       "Timeout reached while detecting encoding for \n",
       "/home/roy/Langchain/langchain/templates/csv-agent/titanic_data/index.faiss\n"
      ]
     },
     "metadata": {},
     "output_type": "display_data"
    },
    {
     "data": {
      "text/html": [
       "<pre style=\"white-space:pre;overflow-x:auto;line-height:normal;font-family:Menlo,'DejaVu Sans Mono',consolas,'Courier New',monospace\">[WARNING]: Could not load /home/roy/Langchain/langchain/templates/rag-redis/data/nke-10k-2023.pdf\n",
       "</pre>\n"
      ],
      "text/plain": [
       "[WARNING]: Could not load /home/roy/Langchain/langchain/templates/rag-redis/data/nke-10k-2023.pdf\n"
      ]
     },
     "metadata": {},
     "output_type": "display_data"
    },
    {
     "data": {
      "text/html": [
       "<pre style=\"white-space:pre;overflow-x:auto;line-height:normal;font-family:Menlo,'DejaVu Sans Mono',consolas,'Courier New',monospace\">\n",
       "</pre>\n"
      ],
      "text/plain": [
       "\n"
      ]
     },
     "metadata": {},
     "output_type": "display_data"
    },
    {
     "data": {
      "text/html": [
       "<pre style=\"white-space:pre;overflow-x:auto;line-height:normal;font-family:Menlo,'DejaVu Sans Mono',consolas,'Courier New',monospace\">Timeout reached while detecting encoding for \n",
       "/home/roy/Langchain/langchain/templates/rag-redis/data/nke-10k-2023.pdf\n",
       "</pre>\n"
      ],
      "text/plain": [
       "Timeout reached while detecting encoding for \n",
       "/home/roy/Langchain/langchain/templates/rag-redis/data/nke-10k-2023.pdf\n"
      ]
     },
     "metadata": {},
     "output_type": "display_data"
    },
    {
     "data": {
      "text/html": [
       "<pre style=\"white-space:pre;overflow-x:auto;line-height:normal;font-family:Menlo,'DejaVu Sans Mono',consolas,'Courier New',monospace\">[WARNING]: Could not load /home/roy/Langchain/langchain/templates/intel-rag-xeon/data/nke-10k-2023.pdf\n",
       "</pre>\n"
      ],
      "text/plain": [
       "[WARNING]: Could not load /home/roy/Langchain/langchain/templates/intel-rag-xeon/data/nke-10k-2023.pdf\n"
      ]
     },
     "metadata": {},
     "output_type": "display_data"
    },
    {
     "data": {
      "text/html": [
       "<pre style=\"white-space:pre;overflow-x:auto;line-height:normal;font-family:Menlo,'DejaVu Sans Mono',consolas,'Courier New',monospace\">\n",
       "</pre>\n"
      ],
      "text/plain": [
       "\n"
      ]
     },
     "metadata": {},
     "output_type": "display_data"
    },
    {
     "data": {
      "text/html": [
       "<pre style=\"white-space:pre;overflow-x:auto;line-height:normal;font-family:Menlo,'DejaVu Sans Mono',consolas,'Courier New',monospace\">Timeout reached while detecting encoding for \n",
       "/home/roy/Langchain/langchain/templates/intel-rag-xeon/data/nke-10k-2023.pdf\n",
       "</pre>\n"
      ],
      "text/plain": [
       "Timeout reached while detecting encoding for \n",
       "/home/roy/Langchain/langchain/templates/intel-rag-xeon/data/nke-10k-2023.pdf\n"
      ]
     },
     "metadata": {},
     "output_type": "display_data"
    },
    {
     "data": {
      "text/html": [
       "<pre style=\"white-space:pre;overflow-x:auto;line-height:normal;font-family:Menlo,'DejaVu Sans Mono',consolas,'Courier New',monospace\"></pre>\n"
      ],
      "text/plain": []
     },
     "metadata": {},
     "output_type": "display_data"
    },
    {
     "data": {
      "text/html": [
       "<pre style=\"white-space:pre;overflow-x:auto;line-height:normal;font-family:Menlo,'DejaVu Sans Mono',consolas,'Courier New',monospace\">\n",
       "</pre>\n"
      ],
      "text/plain": [
       "\n"
      ]
     },
     "metadata": {},
     "output_type": "display_data"
    },
    {
     "data": {
      "application/vnd.jupyter.widget-view+json": {
       "model_id": "cb354d219c364f1690a37fe1d6a99cbb",
       "version_major": 2,
       "version_minor": 0
      },
      "text/plain": [
       "Output()"
      ]
     },
     "metadata": {},
     "output_type": "display_data"
    },
    {
     "data": {
      "text/html": [
       "<pre style=\"white-space:pre;overflow-x:auto;line-height:normal;font-family:Menlo,'DejaVu Sans Mono',consolas,'Courier New',monospace\"></pre>\n"
      ],
      "text/plain": []
     },
     "metadata": {},
     "output_type": "display_data"
    },
    {
     "data": {
      "text/html": [
       "<pre style=\"white-space:pre;overflow-x:auto;line-height:normal;font-family:Menlo,'DejaVu Sans Mono',consolas,'Courier New',monospace\">\n",
       "</pre>\n"
      ],
      "text/plain": [
       "\n"
      ]
     },
     "metadata": {},
     "output_type": "display_data"
    },
    {
     "name": "stderr",
     "output_type": "stream",
     "text": [
      "Using embedding function is deprecated and will be removed in the future. Please use embedding instead.\n",
      "Creating 67742 embeddings in 136 batches of size 500:: 100%|██████████| 136/136 [34:07<00:00, 15.06s/it]"
     ]
    },
    {
     "name": "stdout",
     "output_type": "stream",
     "text": [
      "Dataset(path='Database/langchain', tensors=['text', 'metadata', 'embedding', 'id'])\n",
      "\n",
      "  tensor      htype       shape       dtype  compression\n",
      "  -------    -------     -------     -------  ------- \n",
      "   text       text      (67742, 1)     str     None   \n",
      " metadata     json      (67742, 1)     str     None   \n",
      " embedding  embedding  (67742, 768)  float32   None   \n",
      "    id        text      (67742, 1)     str     None   \n"
     ]
    },
    {
     "name": "stderr",
     "output_type": "stream",
     "text": [
      "\n"
     ]
    }
   ],
   "source": [
    "files = Search2(path = folder_path, ignore=dict_ignore_files)\n",
    "Create_DB(files=files, database_path = f\"Database/{databasename}\", embeddings=embeddings)\n",
    "os.remove(strut_file_path)\n",
    "os.remove(summary_file_path )"
   ]
  },
  {
   "cell_type": "code",
   "execution_count": 6,
   "metadata": {},
   "outputs": [
    {
     "name": "stderr",
     "output_type": "stream",
     "text": [
      "Using embedding function is deprecated and will be removed in the future. Please use embedding instead.\n"
     ]
    },
    {
     "name": "stdout",
     "output_type": "stream",
     "text": [
      "Deep Lake Dataset in Database/langchain already exists, loading from the storage\n"
     ]
    }
   ],
   "source": [
    "db2 = DeepLake(dataset_path=\"Database/langchain\", read_only=True, embedding_function=embeddings)"
   ]
  },
  {
   "cell_type": "code",
   "execution_count": 7,
   "metadata": {},
   "outputs": [],
   "source": [
    "retriever = db2.as_retriever()\n",
    "retriever.search_kwargs['distance_metric'] = 'cos'\n",
    "retriever.search_kwargs['fetch_k'] = 100\n",
    "# retriever.search_kwargs['maximal_marginal_relevance'] = True\n",
    "retriever.search_kwargs['k'] = 20"
   ]
  },
  {
   "cell_type": "code",
   "execution_count": 8,
   "metadata": {},
   "outputs": [],
   "source": [
    "def open_GUI(file: str):#, application: str = \"xdg-open\"):\n",
    "\n",
    "    os.system(f\"xdg-open {file}\")\n",
    "\n",
    "    \n",
    "def find_similar_files(string: str):\n",
    "\n",
    "    context = retriever.get_relevant_documents(string)\n",
    "    found = []\n",
    "    for cont in context:\n",
    "        found.append(cont.page_content)\n",
    "    if found:\n",
    "        return \"?\".join(found)\n",
    "    else:\n",
    "        return \"\"\n",
    "    \n",
    "def find_exact_files(string: str):\n",
    "    command = [\"grep\", \"-r\", string, \"Database/langchain/\"]\n",
    "    for dir in dict_ignore_files[\"dir\"]:\n",
    "        command.extend([f\"--exclude-dir={dir}\"])\n",
    "        # pass\n",
    "    # print(command)\n",
    "    result = subprocess.run(command, stdout=subprocess.PIPE).stdout.decode().split(\"\\n\")\n",
    "    if result:\n",
    "        files = map(lambda x: x.split(\":\")[0], result)\n",
    "        return \"?\".join(files)\n",
    "    else:\n",
    "        return \"\""
   ]
  },
  {
   "cell_type": "code",
   "execution_count": 9,
   "metadata": {},
   "outputs": [],
   "source": [
    "# !pip install google-search-results"
   ]
  },
  {
   "cell_type": "code",
   "execution_count": 10,
   "metadata": {},
   "outputs": [],
   "source": [
    "serp_search = SerpAPIWrapper()\n",
    "tools = [\n",
    "    Tool.from_function(\n",
    "        func=open_GUI,\n",
    "        name = \"Open_file_in_editor\",\n",
    "        description=\"useful for when you need to open a file in editor\"\n",
    "        # coroutine= ... <- you can specify an async method if desired as well\n",
    "    ),\n",
    "    Tool.from_function(\n",
    "        func=find_exact_files,\n",
    "        name = \"Search_Exact_Files\",\n",
    "        description=\"useful for when you need to search for a code snippet in a database. in case no file is found, a empty string will be returned in case of more than one file, their names will be separated by '?' symbol.\"\n",
    "        # coroutine= ... <- you can specify an async method if desired as well\n",
    "    ),\n",
    "    Tool.from_function(\n",
    "        func=find_similar_files,\n",
    "        name = \"Search_Similar_Files\",\n",
    "        description=\"useful for when you need to search for a file related to some context and you don't have the exact keyword to search. in case of more than one file, their names will be separated by '?' symbol. in case no file is found, a empty string will be returned\"\n",
    "        # coroutine= ... <- you can specify an async method if desired as well\n",
    "    ),\n",
    "    Tool.from_function(\n",
    "        func=serp_search.run,\n",
    "        name = \"Search \",\n",
    "        description=\"useful when you need to search for a topic on internet. use it only when its absolute necessary.\"\n",
    "        # coroutine= ... <- you can specify an async method if desired as well\n",
    "    ),\n",
    "]"
   ]
  },
  {
   "cell_type": "code",
   "execution_count": 11,
   "metadata": {},
   "outputs": [],
   "source": [
    "model2 = ChatGroq( model_name=\"Llama3-70b-8192\")#Mixtral-8x7b-32768\n",
    "memory = ConversationBufferMemory(\n",
    "    llm=model2,\n",
    "    memory_key=\"chat_history\",\n",
    "    return_messages=True,\n",
    "    max_token_limit=2000\n",
    ")\n",
    "# memory.output_key = 'result'\n",
    "# memory2 = ConversationSummaryBufferMemory(llm = model2,max_token_limit=200)\n",
    "# memory2.output_key = 'result'"
   ]
  },
  {
   "cell_type": "code",
   "execution_count": 12,
   "metadata": {},
   "outputs": [
    {
     "name": "stderr",
     "output_type": "stream",
     "text": [
      "/home/roy/miniconda3/envs/PyTorch_env/lib/python3.11/site-packages/langchain_core/_api/deprecation.py:119: LangChainDeprecationWarning: The class `LLMChain` was deprecated in LangChain 0.1.17 and will be removed in 0.3.0. Use RunnableSequence, e.g., `prompt | llm` instead.\n",
      "  warn_deprecated(\n"
     ]
    }
   ],
   "source": [
    "condense_title_chain = LLMChain(\n",
    "            llm=model2,\n",
    "            prompt=CONDENSE_title_PROMPT,\n",
    "            # verbose=verbose,\n",
    "            # callbacks=callbacks,\n",
    "        )"
   ]
  },
  {
   "cell_type": "code",
   "execution_count": 13,
   "metadata": {},
   "outputs": [],
   "source": [
    "import json\n",
    "qa_chain = RetrievalQA.from_chain_type(\n",
    "    model2,\n",
    "    retriever=retriever,\n",
    "    return_source_documents=True,\n",
    "    chain_type_kwargs={\"prompt\": QA_CHAIN_PROMPT},\n",
    ")\n",
    "\n",
    "with open(\"chat_IDs.json\", \"w\") as file:\n",
    "        json.dump({\"details\": []}, file, indent = 4)\n"
   ]
  },
  {
   "cell_type": "code",
   "execution_count": 14,
   "metadata": {},
   "outputs": [
    {
     "data": {
      "text/markdown": [
       "Hello Aniruddha! I'd be happy to help you with OpenCV. What specific question or topic do you need help with? Are you working on a project and stuck somewhere, or do you want to learn more about a particular concept in OpenCV? "
      ],
      "text/plain": [
       "<IPython.core.display.Markdown object>"
      ]
     },
     "metadata": {},
     "output_type": "display_data"
    }
   ],
   "source": [
    "\n",
    "question = input(\"Ask query:\")\n",
    "content = {\"Human\": '',\n",
    "           \"Assistant\": ''}\n",
    "unique_id1 = uuid.uuid1()\n",
    "with open(f\"memory/{unique_id1}.json\", \"w\") as file:\n",
    "        json.dump({\"history\": []}, file, indent = 4)\n",
    "reply = qa_chain({\"query\": question} )\n",
    "text = condense_title_chain({\"question\": question, \"reply\" : reply[\"result\"]})\n",
    "with open(\"chat_IDs.json\", 'r') as file:\n",
    "        id = json.load(file)\n",
    "id[\"details\"].append({text[\"text\"]: str(unique_id1)})\n",
    "with open(\"chat_IDs.json\", \"w\") as file:\n",
    "        json.dump(id, file, indent = 4)\n",
    "while question:\n",
    "    result = qa_chain({\"query\": question} )\n",
    "    with open(f\"memory/{unique_id1}.json\", 'r') as file:\n",
    "        data = json.load(file)\n",
    "    print(data)\n",
    "    content[\"Human\"] = question\n",
    "    content[\"Assistant\"] = result[\"result\"]\n",
    "    data[\"history\"].append(content)\n",
    "    display_output(result=result[\"result\"])\n",
    "    with open(f\"memory/{unique_id1}.json\", \"w\") as file:\n",
    "        json.dump(data, file, indent = 4)\n",
    "    question = input(\"Ask query:\")\n",
    "    "
   ]
  },
  {
   "cell_type": "code",
   "execution_count": 171,
   "metadata": {},
   "outputs": [
    {
     "data": {
      "text/plain": [
       "{'query': 'Show me the whole tree structure of opencv directory make sure it include all the files',\n",
       " 'result': 'Here is the tree structure of the OpenCV directory:\\n```\\n/home/roy/Documents/Opencv/\\n.ipynb_checkpoints/\\n6_contour_and_shape_detection-checkpoint.ipynb\\n1_edges_and_gradients.ipynb\\n2_convolutions_and_morphological.ipynb\\n3_blurring_and_thresholding.ipynb\\n4_drawing_and_bitwise.ipynb\\n5_colour_detection.ipynb\\n6_contour_and_shape_detection.ipynb\\n7_mouse_events_and_wrap.ipynb\\n8_haarcascades.ipynb\\nutilities.py\\nassets/\\ncascades/\\nhaarcascade_smile.xml\\nhaarcascade_righteye_2splits.xml\\nhaarcascade_profileface.xml\\nhaarcascade_lowerbody.xml\\nhaarcascade_eye.xml\\nhaarcascade_frontalface_alt.xml\\nhaarcascade_russian_plate_number.xml\\nhaarcascade_fullbody.xml\\nhaarcascade_lefteye_2splits.xml\\nhaarcascade_eye_tree_eyeglasses.xml\\nhaarcascade_frontalcatface.xml\\nhaarcascade_upperbody.xml\\nhaarcascade_frontalface_alt2.xml\\nhaarcascade_frontalcatface_extended.xml\\nhaarcascade_frontalface_alt_tree.xml\\nhaarcascade_car.xml\\nhaarcascade_licence_plate_rus_16stages.xml\\nhaarcascade_frontalface_default.xml\\nimages/\\nshapes.jpg\\nrect.jpg\\nshapes_resize.jpg\\nhello.jpg\\nhello_noise_white.jpg\\nhello_noise_black.jpg\\nscenary.jpg\\nlenna.jpg\\nlamborgini_trackbar.png\\ntransform2.png\\nscharr.png\\nmapped.png\\nblank.png\\nthreshhold_type.png\\npage.jpg\\ncards.jpg\\ncards_points.png\\nopencv_noise.jpg\\nexamples kernels.png\\nfaces_resize.jpg\\nvideos/\\nwalking.avi\\ncars.avi\\noutput.avi\\ndoc.py\\ndataset_lock.lock\\n.folder_structure.md\\n```\\nNote that this tree structure includes all the files and directories mentioned in the provided content. Let me know if you have any further questions!',\n",
       " 'source_documents': [Document(page_content='The following  below content are from the the given file:\\n            [\\n            filename: .folder_structure.md\\n            filepath: /home/roy/Documents/Opencv/.folder_structure.md\\n            content: [And here is the Tree structure of the folder, Use it when asked for relative path or to print tree structure of the folder]\\n            ]\\n\\n\\n\\nThe following  below content are from the the given file:\\n            [\\n            filename: doc.py\\n            filepath: /home/roy/Documents/Opencv/assets/doc.py\\n            content: [# encoding: utf-8\\n# module cv2\\n# from /usr/lib/python3/dist-packages/cv2.cpython-38-x86_64-linux-gnu.so\\n# by generator 1.147\\n\"\"\" Python wrapper for OpenCV. \"\"\"]\\n            ]', metadata={'source': '/home/roy/Documents/Opencv/._folder_files_summary.txt'}),\n",
       "  Document(page_content='The following  below content are from the the given file:\\n            [\\n            filename: .folder_structure.md\\n            filepath: /home/roy/Documents/Opencv/.folder_structure.md', metadata={'source': '/home/roy/Documents/Opencv/._folder_files_summary.txt'}),\n",
       "  Document(page_content='The following  below content are from the the given file:\\n            [\\n            filename: .folder_structure.md\\n            filepath: /home/roy/Documents/Opencv/.folder_structure.md', metadata={'source': '/home/roy/Documents/Opencv/._folder_files_summary.txt'}),\n",
       "  Document(page_content='The following  below content are from the the given file:\\n            [\\n            filename: .folder_structure.md\\n            filepath: /home/roy/Documents/Opencv/.folder_structure.md', metadata={'source': '/home/roy/Documents/Opencv/._folder_files_summary.txt'}),\n",
       "  Document(page_content='The following  below content are from the the given file:\\n            [\\n            filename: .folder_structure.md\\n            filepath: /home/roy/Documents/Opencv/.folder_structure.md', metadata={'source': '/home/roy/Documents/Opencv/._folder_files_summary.txt'}),\n",
       "  Document(page_content='The following  below content are from the the given file:\\n            [\\n            filename: .folder_structure.md\\n            filepath: /home/roy/Documents/Opencv/.folder_structure.md', metadata={'source': '/home/roy/Documents/Opencv/._folder_files_summary.txt'}),\n",
       "  Document(page_content='And here is the Tree structure of the folder, Use it when asked for relative path or to print tree structure of the folder', metadata={'source': '/home/roy/Documents/Opencv/.folder_structure.md'}),\n",
       "  Document(page_content=\"[\\n            filename: .folder_structure.md\\n            filepath: /home/roy/Documents/Opencv/.folder_structure.md\\n            content: ['/home/roy/Documents/Opencv/assets/cascades/haarcascade_smile.xml', '/home/roy/Documents/Opencv/assets/cascades/haarcascade_righteye_2splits.xml', '/home/roy/Documents/Opencv/assets/cascades/haarcascade_profileface.xml', '/home/roy/Documents/Opencv/assets/cascades/haarcascade_lowerbody.xml', '/home/roy/Documents/Opencv/assets/cascades/haarcascade_eye.xml', '/home/roy/Documents/Opencv/assets/cascades/haarcascade_frontalface_alt.xml', '/home/roy/Documents/Opencv/assets/cascades/haarcascade_russian_plate_number.xml', '/home/roy/Documents/Opencv/assets/cascades/haarcascade_fullbody.xml', '/home/roy/Documents/Opencv/assets/cascades/haarcascade_lefteye_2splits.xml', '/home/roy/Documents/Opencv/assets/cascades/haarcascade_eye_tree_eyeglasses.xml', '/home/roy/Documents/Opencv/assets/cascades/haarcascade_frontalcatface.xml']]\\n            ]\", metadata={'source': '/home/roy/Documents/Opencv/._folder_files_summary.txt'}),\n",
       "  Document(page_content='Here is the list global paths of all the file in the directory:', metadata={'source': '/home/roy/Documents/Opencv/.folder_structure.md'}),\n",
       "  Document(page_content=\"['/home/roy/Documents/Opencv/.ipynb_checkpoints/6_contour_and_shape_detection-checkpoint.ipynb', '/home/roy/Documents/Opencv/5_colour_detection.ipynb', '/home/roy/Documents/Opencv/6_contour_and_shape_detection.ipynb', '/home/roy/Documents/Opencv/7_mouse_events_and_wrap.ipynb', '/home/roy/Documents/Opencv/1_edges_and_gradients.ipynb', '/home/roy/Documents/Opencv/2_convolutions_and_morphological.ipynb', '/home/roy/Documents/Opencv/8_haarcascades.ipynb', '/home/roy/Documents/Opencv/utilities.py', '/home/roy/Documents/Opencv/3_blurring_and_thresholding.ipynb', '/home/roy/Documents/Opencv/4_drawing_and_bitwise.ipynb', '/home/roy/Documents/Opencv/dataset_lock.lock', '/home/roy/Documents/Opencv/assets/doc.py', '/home/roy/Documents/Opencv/assets/videos/walking.avi', '/home/roy/Documents/Opencv/assets/videos/cars.avi', '/home/roy/Documents/Opencv/assets/videos/output.avi', '/home/roy/Documents/Opencv/assets/images/shapes.jpg', '/home/roy/Documents/Opencv/assets/images/rect.jpg',\", metadata={'source': '/home/roy/Documents/Opencv/.folder_structure.md'}),\n",
       "  Document(page_content=\"content: [['/home/roy/Documents/Opencv/.ipynb_checkpoints/6_contour_and_shape_detection-checkpoint.ipynb', '/home/roy/Documents/Opencv/5_colour_detection.ipynb', '/home/roy/Documents/Opencv/6_contour_and_shape_detection.ipynb', '/home/roy/Documents/Opencv/7_mouse_events_and_wrap.ipynb', '/home/roy/Documents/Opencv/1_edges_and_gradients.ipynb', '/home/roy/Documents/Opencv/2_convolutions_and_morphological.ipynb', '/home/roy/Documents/Opencv/8_haarcascades.ipynb', '/home/roy/Documents/Opencv/utilities.py', '/home/roy/Documents/Opencv/3_blurring_and_thresholding.ipynb', '/home/roy/Documents/Opencv/4_drawing_and_bitwise.ipynb', '/home/roy/Documents/Opencv/dataset_lock.lock', '/home/roy/Documents/Opencv/assets/doc.py', '/home/roy/Documents/Opencv/assets/videos/walking.avi', '/home/roy/Documents/Opencv/assets/videos/cars.avi', '/home/roy/Documents/Opencv/assets/videos/output.avi', '/home/roy/Documents/Opencv/assets/images/shapes.jpg', '/home/roy/Documents/Opencv/assets/images/rect.jpg',]\\n            ]\", metadata={'source': '/home/roy/Documents/Opencv/._folder_files_summary.txt'}),\n",
       "  Document(page_content=\"'/home/roy/Documents/Opencv/assets/images/transform2.png', '/home/roy/Documents/Opencv/assets/images/scharr.png', '/home/roy/Documents/Opencv/assets/images/mapped.png', '/home/roy/Documents/Opencv/assets/images/blank.png',]\", metadata={'source': '/home/roy/Documents/Opencv/._folder_files_summary.txt'}),\n",
       "  Document(page_content=\"'/home/roy/Documents/Opencv/assets/images/scharr.png', '/home/roy/Documents/Opencv/assets/images/mapped.png', '/home/roy/Documents/Opencv/assets/images/blank.png', '/home/roy/Documents/Opencv/assets/images/threshhold_type.png', '/home/roy/Documents/Opencv/assets/images/page.jpg', '/home/roy/Documents/Opencv/assets/cascades/haarcascade_upperbody.xml', '/home/roy/Documents/Opencv/assets/cascades/haarcascade_frontalface_alt2.xml', '/home/roy/Documents/Opencv/assets/cascades/haarcascade_frontalcatface_extended.xml', '/home/roy/Documents/Opencv/assets/cascades/haarcascade_frontalface_alt_tree.xml', '/home/roy/Documents/Opencv/assets/cascades/haarcascade_car.xml', '/home/roy/Documents/Opencv/assets/cascades/haarcascade_licence_plate_rus_16stages.xml', '/home/roy/Documents/Opencv/assets/cascades/haarcascade_frontalface_default.xml', '/home/roy/Documents/Opencv/assets/cascades/haarcascade_smile.xml', '/home/roy/Documents/Opencv/assets/cascades/haarcascade_righteye_2splits.xml',\", metadata={'source': '/home/roy/Documents/Opencv/.folder_structure.md'}),\n",
       "  Document(page_content='# encoding: utf-8\\n# module cv2\\n# from /usr/lib/python3/dist-packages/cv2.cpython-38-x86_64-linux-gnu.so\\n# by generator 1.147\\n\"\"\" Python wrapper for OpenCV. \"\"\"', metadata={'source': '/home/roy/Documents/Opencv/assets/doc.py'}),\n",
       "  Document(page_content=\"'/home/roy/Documents/Opencv/assets/images/shapes_resize.jpg', '/home/roy/Documents/Opencv/assets/images/hello_noise_white.jpg', '/home/roy/Documents/Opencv/assets/images/hello.jpg', '/home/roy/Documents/Opencv/assets/images/sobel.png', '/home/roy/Documents/Opencv/assets/images/cards.jpg', '/home/roy/Documents/Opencv/assets/images/cards_points.png', '/home/roy/Documents/Opencv/assets/images/opencv_noise.jpg', '/home/roy/Documents/Opencv/assets/images/examples kernels.png', '/home/roy/Documents/Opencv/assets/images/faces_resize.jpg', '/home/roy/Documents/Opencv/assets/images/hello_noise_black.jpg', '/home/roy/Documents/Opencv/assets/images/scenary.jpg', '/home/roy/Documents/Opencv/assets/images/lenna.jpg', '/home/roy/Documents/Opencv/assets/images/lamborgini_trackbar.png', '/home/roy/Documents/Opencv/assets/images/transform2.png', '/home/roy/Documents/Opencv/assets/images/scharr.png', '/home/roy/Documents/Opencv/assets/images/mapped.png', '/home/roy/Documents/Opencv/assets/images/blank.png',\", metadata={'source': '/home/roy/Documents/Opencv/.folder_structure.md'}),\n",
       "  Document(page_content=\"content: ['/home/roy/Documents/Opencv/assets/images/scharr.png', '/home/roy/Documents/Opencv/assets/images/mapped.png', '/home/roy/Documents/Opencv/assets/images/blank.png', '/home/roy/Documents/Opencv/assets/images/threshhold_type.png', '/home/roy/Documents/Opencv/assets/images/page.jpg', '/home/roy/Documents/Opencv/assets/cascades/haarcascade_upperbody.xml', '/home/roy/Documents/Opencv/assets/cascades/haarcascade_frontalface_alt2.xml', '/home/roy/Documents/Opencv/assets/cascades/haarcascade_frontalcatface_extended.xml', '/home/roy/Documents/Opencv/assets/cascades/haarcascade_frontalface_alt_tree.xml', '/home/roy/Documents/Opencv/assets/cascades/haarcascade_car.xml', '/home/roy/Documents/Opencv/assets/cascades/haarcascade_licence_plate_rus_16stages.xml', '/home/roy/Documents/Opencv/assets/cascades/haarcascade_frontalface_default.xml', '/home/roy/Documents/Opencv/assets/cascades/haarcascade_smile.xml', '/home/roy/Documents/Opencv/assets/cascades/haarcascade_righteye_2splits.xml',]\\n            ]\", metadata={'source': '/home/roy/Documents/Opencv/._folder_files_summary.txt'}),\n",
       "  Document(page_content='The following  below content are from the the given file:\\n            [\\n            filename: doc.py\\n            filepath: /home/roy/Documents/Opencv/assets/doc.py\\n            content: [.   #ConnectedComponentsTypes. The data type is CV_32S.\\n    .   @param centroids centroid output for each label, including the background label. Centroids are\\n    .   accessed via centroids(label, 0) for x and centroids(label, 1) for y. The data type CV_64F.\\n    .   @param connectivity 8 or 4 for 8-way or 4-way connectivity respectively\\n    .   @param ltype output image label type. Currently CV_32S and CV_16U are supported.\\n    .   @param ccltype connected components algorithm type (see #ConnectedComponentsAlgorithmsTypes).\\n    \"\"\"\\n    pass]\\n            ]', metadata={'source': '/home/roy/Documents/Opencv/._folder_files_summary.txt'}),\n",
       "  Document(page_content='The following  below content are from the the given file:\\n            [\\n            filename: doc.py\\n            filepath: /home/roy/Documents/Opencv/assets/doc.py\\n            content: [def findContours(image, mode, method, contours=None, hierarchy=None, offset=None): # real signature unknown; restored from __doc__\\n    \"\"\"\\n    findContours(image, mode, method[, contours[, hierarchy[, offset]]]) -> contours, hierarchy\\n    .   @brief Finds contours in a binary image.\\n    .   \\n    .   The function retrieves contours from the binary image using the algorithm @cite Suzuki85 . The contours\\n    .   are a useful tool for shape analysis and object detection and recognition. See squares.cpp in the\\n    .   OpenCV sample directory.\\n    .   @note Since opencv 3.2 source image is not modified by this function.\\n    .   \\n    .   @param image Source, an 8-bit single-channel image. Non-zero pixels are treated as 1\\'s. Zero', metadata={'source': '/home/roy/Documents/Opencv/._folder_files_summary.txt'}),\n",
       "  Document(page_content=\"'/home/roy/Documents/Opencv/assets/cascades/haarcascade_smile.xml', '/home/roy/Documents/Opencv/assets/cascades/haarcascade_righteye_2splits.xml', '/home/roy/Documents/Opencv/assets/cascades/haarcascade_profileface.xml', '/home/roy/Documents/Opencv/assets/cascades/haarcascade_lowerbody.xml', '/home/roy/Documents/Opencv/assets/cascades/haarcascade_eye.xml', '/home/roy/Documents/Opencv/assets/cascades/haarcascade_frontalface_alt.xml', '/home/roy/Documents/Opencv/assets/cascades/haarcascade_russian_plate_number.xml', '/home/roy/Documents/Opencv/assets/cascades/haarcascade_fullbody.xml', '/home/roy/Documents/Opencv/assets/cascades/haarcascade_lefteye_2splits.xml', '/home/roy/Documents/Opencv/assets/cascades/haarcascade_eye_tree_eyeglasses.xml', '/home/roy/Documents/Opencv/assets/cascades/haarcascade_frontalcatface.xml']\", metadata={'source': '/home/roy/Documents/Opencv/.folder_structure.md'}),\n",
       "  Document(page_content='The following  below content are from the the given file:\\n            [\\n            filename: utilities.py\\n            filepath: /home/roy/Documents/Opencv/utilities.py\\n            content: [if os.path.isfile(path) and (path.split(\".\")[-1].split(\"/\")[-1] not in ignore[\"extension\"]) and (path.split(\"/\") not in ignore[\"file\"]):\\n        return path\\n    elif os.path.isdir(path) and path.split(\"/\")[-1] not in ignore[\"dir\"]:\\n        files = []\\n        for p in os.listdir(path):\\n            if os.path.isfile(os.path.join(path, p)) and (p.split(\".\")[-1].split(\"/\")[-1] not in ignore[\"extension\"]) and (p.split(\"/\")[-1] not in ignore[\"file\"]):\\n                files.append(os.path.join(path, p))\\n            elif os.path.isdir(os.path.join(path, p)) and p.split(\"/\")[-1] not in ignore[\"dir\"]:\\n                files.extend(Search2(os.path.join(path, p), ignore=ignore))\\n\\n        if not(relative):\\n            cwd = os.getcwd() + os.path.sep\\n            files = list(map(lambda x: cwd + x, files))', metadata={'source': '/home/roy/Documents/Opencv/._folder_files_summary.txt'})]}"
      ]
     },
     "execution_count": 171,
     "metadata": {},
     "output_type": "execute_result"
    }
   ],
   "source": [
    "result"
   ]
  },
  {
   "cell_type": "code",
   "execution_count": 149,
   "metadata": {},
   "outputs": [],
   "source": [
    "qa = ConversationalRetrievalChain.from_llm(\n",
    "    model2,\n",
    "    retriever=retriever,\n",
    "    memory=memory,\n",
    "    # verbose = True,\n",
    "    condense_question_prompt=CONDENSE_QUESTION_PROMPT,\n",
    "    # chain_type = \"stuff\"\n",
    ")\n"
   ]
  },
  {
   "cell_type": "code",
   "execution_count": 145,
   "metadata": {},
   "outputs": [
    {
     "data": {
      "text/plain": [
       "['question', 'chat_history']"
      ]
     },
     "execution_count": 145,
     "metadata": {},
     "output_type": "execute_result"
    }
   ],
   "source": [
    "qa.input_keys"
   ]
  },
  {
   "cell_type": "code",
   "execution_count": 150,
   "metadata": {},
   "outputs": [
    {
     "data": {
      "text/markdown": [
       "Hello Aniruddha! It's nice to meet you. Is there something I can help you with or would you like to ask me a question? "
      ],
      "text/plain": [
       "<IPython.core.display.Markdown object>"
      ]
     },
     "metadata": {},
     "output_type": "display_data"
    }
   ],
   "source": [
    "result = {\"chat_history\": ''}\n",
    "question = \"Hello myself Aniruddha\"\n",
    "text = condense_question_chain({\"chat_history\": result[\"chat_history\"] , \"question\": question})\n",
    "\n",
    "result = qa({\"question\": text[\"text\"]})\n",
    "# memory.save_context({\"input\": result[\"chat_history\"][0::2]}, {\"output\": result[\"chat_history\"][1::2]})\n",
    "display_output(result=result['answer'])"
   ]
  },
  {
   "cell_type": "code",
   "execution_count": 172,
   "metadata": {},
   "outputs": [
    {
     "data": {
      "text/plain": [
       "{'query': 'Show me the whole tree structure of opencv directory make sure it include all the files',\n",
       " 'result': 'Here is the tree structure of the OpenCV directory:\\n```\\n/home/roy/Documents/Opencv/\\n.ipynb_checkpoints/\\n6_contour_and_shape_detection-checkpoint.ipynb\\n1_edges_and_gradients.ipynb\\n2_convolutions_and_morphological.ipynb\\n3_blurring_and_thresholding.ipynb\\n4_drawing_and_bitwise.ipynb\\n5_colour_detection.ipynb\\n6_contour_and_shape_detection.ipynb\\n7_mouse_events_and_wrap.ipynb\\n8_haarcascades.ipynb\\nutilities.py\\nassets/\\ncascades/\\nhaarcascade_smile.xml\\nhaarcascade_righteye_2splits.xml\\nhaarcascade_profileface.xml\\nhaarcascade_lowerbody.xml\\nhaarcascade_eye.xml\\nhaarcascade_frontalface_alt.xml\\nhaarcascade_russian_plate_number.xml\\nhaarcascade_fullbody.xml\\nhaarcascade_lefteye_2splits.xml\\nhaarcascade_eye_tree_eyeglasses.xml\\nhaarcascade_frontalcatface.xml\\nhaarcascade_upperbody.xml\\nhaarcascade_frontalface_alt2.xml\\nhaarcascade_frontalcatface_extended.xml\\nhaarcascade_frontalface_alt_tree.xml\\nhaarcascade_car.xml\\nhaarcascade_licence_plate_rus_16stages.xml\\nhaarcascade_frontalface_default.xml\\nimages/\\nshapes.jpg\\nrect.jpg\\nshapes_resize.jpg\\nhello.jpg\\nhello_noise_white.jpg\\nhello_noise_black.jpg\\nscenary.jpg\\nlenna.jpg\\nlamborgini_trackbar.png\\ntransform2.png\\nscharr.png\\nmapped.png\\nblank.png\\nthreshhold_type.png\\npage.jpg\\ncards.jpg\\ncards_points.png\\nopencv_noise.jpg\\nexamples kernels.png\\nfaces_resize.jpg\\nvideos/\\nwalking.avi\\ncars.avi\\noutput.avi\\ndoc.py\\ndataset_lock.lock\\n.folder_structure.md\\n```\\nNote that this tree structure includes all the files and directories mentioned in the provided content. Let me know if you have any further questions!',\n",
       " 'source_documents': [Document(page_content='The following  below content are from the the given file:\\n            [\\n            filename: .folder_structure.md\\n            filepath: /home/roy/Documents/Opencv/.folder_structure.md\\n            content: [And here is the Tree structure of the folder, Use it when asked for relative path or to print tree structure of the folder]\\n            ]\\n\\n\\n\\nThe following  below content are from the the given file:\\n            [\\n            filename: doc.py\\n            filepath: /home/roy/Documents/Opencv/assets/doc.py\\n            content: [# encoding: utf-8\\n# module cv2\\n# from /usr/lib/python3/dist-packages/cv2.cpython-38-x86_64-linux-gnu.so\\n# by generator 1.147\\n\"\"\" Python wrapper for OpenCV. \"\"\"]\\n            ]', metadata={'source': '/home/roy/Documents/Opencv/._folder_files_summary.txt'}),\n",
       "  Document(page_content='The following  below content are from the the given file:\\n            [\\n            filename: .folder_structure.md\\n            filepath: /home/roy/Documents/Opencv/.folder_structure.md', metadata={'source': '/home/roy/Documents/Opencv/._folder_files_summary.txt'}),\n",
       "  Document(page_content='The following  below content are from the the given file:\\n            [\\n            filename: .folder_structure.md\\n            filepath: /home/roy/Documents/Opencv/.folder_structure.md', metadata={'source': '/home/roy/Documents/Opencv/._folder_files_summary.txt'}),\n",
       "  Document(page_content='The following  below content are from the the given file:\\n            [\\n            filename: .folder_structure.md\\n            filepath: /home/roy/Documents/Opencv/.folder_structure.md', metadata={'source': '/home/roy/Documents/Opencv/._folder_files_summary.txt'}),\n",
       "  Document(page_content='The following  below content are from the the given file:\\n            [\\n            filename: .folder_structure.md\\n            filepath: /home/roy/Documents/Opencv/.folder_structure.md', metadata={'source': '/home/roy/Documents/Opencv/._folder_files_summary.txt'}),\n",
       "  Document(page_content='The following  below content are from the the given file:\\n            [\\n            filename: .folder_structure.md\\n            filepath: /home/roy/Documents/Opencv/.folder_structure.md', metadata={'source': '/home/roy/Documents/Opencv/._folder_files_summary.txt'}),\n",
       "  Document(page_content='And here is the Tree structure of the folder, Use it when asked for relative path or to print tree structure of the folder', metadata={'source': '/home/roy/Documents/Opencv/.folder_structure.md'}),\n",
       "  Document(page_content=\"[\\n            filename: .folder_structure.md\\n            filepath: /home/roy/Documents/Opencv/.folder_structure.md\\n            content: ['/home/roy/Documents/Opencv/assets/cascades/haarcascade_smile.xml', '/home/roy/Documents/Opencv/assets/cascades/haarcascade_righteye_2splits.xml', '/home/roy/Documents/Opencv/assets/cascades/haarcascade_profileface.xml', '/home/roy/Documents/Opencv/assets/cascades/haarcascade_lowerbody.xml', '/home/roy/Documents/Opencv/assets/cascades/haarcascade_eye.xml', '/home/roy/Documents/Opencv/assets/cascades/haarcascade_frontalface_alt.xml', '/home/roy/Documents/Opencv/assets/cascades/haarcascade_russian_plate_number.xml', '/home/roy/Documents/Opencv/assets/cascades/haarcascade_fullbody.xml', '/home/roy/Documents/Opencv/assets/cascades/haarcascade_lefteye_2splits.xml', '/home/roy/Documents/Opencv/assets/cascades/haarcascade_eye_tree_eyeglasses.xml', '/home/roy/Documents/Opencv/assets/cascades/haarcascade_frontalcatface.xml']]\\n            ]\", metadata={'source': '/home/roy/Documents/Opencv/._folder_files_summary.txt'}),\n",
       "  Document(page_content='Here is the list global paths of all the file in the directory:', metadata={'source': '/home/roy/Documents/Opencv/.folder_structure.md'}),\n",
       "  Document(page_content=\"['/home/roy/Documents/Opencv/.ipynb_checkpoints/6_contour_and_shape_detection-checkpoint.ipynb', '/home/roy/Documents/Opencv/5_colour_detection.ipynb', '/home/roy/Documents/Opencv/6_contour_and_shape_detection.ipynb', '/home/roy/Documents/Opencv/7_mouse_events_and_wrap.ipynb', '/home/roy/Documents/Opencv/1_edges_and_gradients.ipynb', '/home/roy/Documents/Opencv/2_convolutions_and_morphological.ipynb', '/home/roy/Documents/Opencv/8_haarcascades.ipynb', '/home/roy/Documents/Opencv/utilities.py', '/home/roy/Documents/Opencv/3_blurring_and_thresholding.ipynb', '/home/roy/Documents/Opencv/4_drawing_and_bitwise.ipynb', '/home/roy/Documents/Opencv/dataset_lock.lock', '/home/roy/Documents/Opencv/assets/doc.py', '/home/roy/Documents/Opencv/assets/videos/walking.avi', '/home/roy/Documents/Opencv/assets/videos/cars.avi', '/home/roy/Documents/Opencv/assets/videos/output.avi', '/home/roy/Documents/Opencv/assets/images/shapes.jpg', '/home/roy/Documents/Opencv/assets/images/rect.jpg',\", metadata={'source': '/home/roy/Documents/Opencv/.folder_structure.md'}),\n",
       "  Document(page_content=\"content: [['/home/roy/Documents/Opencv/.ipynb_checkpoints/6_contour_and_shape_detection-checkpoint.ipynb', '/home/roy/Documents/Opencv/5_colour_detection.ipynb', '/home/roy/Documents/Opencv/6_contour_and_shape_detection.ipynb', '/home/roy/Documents/Opencv/7_mouse_events_and_wrap.ipynb', '/home/roy/Documents/Opencv/1_edges_and_gradients.ipynb', '/home/roy/Documents/Opencv/2_convolutions_and_morphological.ipynb', '/home/roy/Documents/Opencv/8_haarcascades.ipynb', '/home/roy/Documents/Opencv/utilities.py', '/home/roy/Documents/Opencv/3_blurring_and_thresholding.ipynb', '/home/roy/Documents/Opencv/4_drawing_and_bitwise.ipynb', '/home/roy/Documents/Opencv/dataset_lock.lock', '/home/roy/Documents/Opencv/assets/doc.py', '/home/roy/Documents/Opencv/assets/videos/walking.avi', '/home/roy/Documents/Opencv/assets/videos/cars.avi', '/home/roy/Documents/Opencv/assets/videos/output.avi', '/home/roy/Documents/Opencv/assets/images/shapes.jpg', '/home/roy/Documents/Opencv/assets/images/rect.jpg',]\\n            ]\", metadata={'source': '/home/roy/Documents/Opencv/._folder_files_summary.txt'}),\n",
       "  Document(page_content=\"'/home/roy/Documents/Opencv/assets/images/transform2.png', '/home/roy/Documents/Opencv/assets/images/scharr.png', '/home/roy/Documents/Opencv/assets/images/mapped.png', '/home/roy/Documents/Opencv/assets/images/blank.png',]\", metadata={'source': '/home/roy/Documents/Opencv/._folder_files_summary.txt'}),\n",
       "  Document(page_content=\"'/home/roy/Documents/Opencv/assets/images/scharr.png', '/home/roy/Documents/Opencv/assets/images/mapped.png', '/home/roy/Documents/Opencv/assets/images/blank.png', '/home/roy/Documents/Opencv/assets/images/threshhold_type.png', '/home/roy/Documents/Opencv/assets/images/page.jpg', '/home/roy/Documents/Opencv/assets/cascades/haarcascade_upperbody.xml', '/home/roy/Documents/Opencv/assets/cascades/haarcascade_frontalface_alt2.xml', '/home/roy/Documents/Opencv/assets/cascades/haarcascade_frontalcatface_extended.xml', '/home/roy/Documents/Opencv/assets/cascades/haarcascade_frontalface_alt_tree.xml', '/home/roy/Documents/Opencv/assets/cascades/haarcascade_car.xml', '/home/roy/Documents/Opencv/assets/cascades/haarcascade_licence_plate_rus_16stages.xml', '/home/roy/Documents/Opencv/assets/cascades/haarcascade_frontalface_default.xml', '/home/roy/Documents/Opencv/assets/cascades/haarcascade_smile.xml', '/home/roy/Documents/Opencv/assets/cascades/haarcascade_righteye_2splits.xml',\", metadata={'source': '/home/roy/Documents/Opencv/.folder_structure.md'}),\n",
       "  Document(page_content='# encoding: utf-8\\n# module cv2\\n# from /usr/lib/python3/dist-packages/cv2.cpython-38-x86_64-linux-gnu.so\\n# by generator 1.147\\n\"\"\" Python wrapper for OpenCV. \"\"\"', metadata={'source': '/home/roy/Documents/Opencv/assets/doc.py'}),\n",
       "  Document(page_content=\"'/home/roy/Documents/Opencv/assets/images/shapes_resize.jpg', '/home/roy/Documents/Opencv/assets/images/hello_noise_white.jpg', '/home/roy/Documents/Opencv/assets/images/hello.jpg', '/home/roy/Documents/Opencv/assets/images/sobel.png', '/home/roy/Documents/Opencv/assets/images/cards.jpg', '/home/roy/Documents/Opencv/assets/images/cards_points.png', '/home/roy/Documents/Opencv/assets/images/opencv_noise.jpg', '/home/roy/Documents/Opencv/assets/images/examples kernels.png', '/home/roy/Documents/Opencv/assets/images/faces_resize.jpg', '/home/roy/Documents/Opencv/assets/images/hello_noise_black.jpg', '/home/roy/Documents/Opencv/assets/images/scenary.jpg', '/home/roy/Documents/Opencv/assets/images/lenna.jpg', '/home/roy/Documents/Opencv/assets/images/lamborgini_trackbar.png', '/home/roy/Documents/Opencv/assets/images/transform2.png', '/home/roy/Documents/Opencv/assets/images/scharr.png', '/home/roy/Documents/Opencv/assets/images/mapped.png', '/home/roy/Documents/Opencv/assets/images/blank.png',\", metadata={'source': '/home/roy/Documents/Opencv/.folder_structure.md'}),\n",
       "  Document(page_content=\"content: ['/home/roy/Documents/Opencv/assets/images/scharr.png', '/home/roy/Documents/Opencv/assets/images/mapped.png', '/home/roy/Documents/Opencv/assets/images/blank.png', '/home/roy/Documents/Opencv/assets/images/threshhold_type.png', '/home/roy/Documents/Opencv/assets/images/page.jpg', '/home/roy/Documents/Opencv/assets/cascades/haarcascade_upperbody.xml', '/home/roy/Documents/Opencv/assets/cascades/haarcascade_frontalface_alt2.xml', '/home/roy/Documents/Opencv/assets/cascades/haarcascade_frontalcatface_extended.xml', '/home/roy/Documents/Opencv/assets/cascades/haarcascade_frontalface_alt_tree.xml', '/home/roy/Documents/Opencv/assets/cascades/haarcascade_car.xml', '/home/roy/Documents/Opencv/assets/cascades/haarcascade_licence_plate_rus_16stages.xml', '/home/roy/Documents/Opencv/assets/cascades/haarcascade_frontalface_default.xml', '/home/roy/Documents/Opencv/assets/cascades/haarcascade_smile.xml', '/home/roy/Documents/Opencv/assets/cascades/haarcascade_righteye_2splits.xml',]\\n            ]\", metadata={'source': '/home/roy/Documents/Opencv/._folder_files_summary.txt'}),\n",
       "  Document(page_content='The following  below content are from the the given file:\\n            [\\n            filename: doc.py\\n            filepath: /home/roy/Documents/Opencv/assets/doc.py\\n            content: [.   #ConnectedComponentsTypes. The data type is CV_32S.\\n    .   @param centroids centroid output for each label, including the background label. Centroids are\\n    .   accessed via centroids(label, 0) for x and centroids(label, 1) for y. The data type CV_64F.\\n    .   @param connectivity 8 or 4 for 8-way or 4-way connectivity respectively\\n    .   @param ltype output image label type. Currently CV_32S and CV_16U are supported.\\n    .   @param ccltype connected components algorithm type (see #ConnectedComponentsAlgorithmsTypes).\\n    \"\"\"\\n    pass]\\n            ]', metadata={'source': '/home/roy/Documents/Opencv/._folder_files_summary.txt'}),\n",
       "  Document(page_content='The following  below content are from the the given file:\\n            [\\n            filename: doc.py\\n            filepath: /home/roy/Documents/Opencv/assets/doc.py\\n            content: [def findContours(image, mode, method, contours=None, hierarchy=None, offset=None): # real signature unknown; restored from __doc__\\n    \"\"\"\\n    findContours(image, mode, method[, contours[, hierarchy[, offset]]]) -> contours, hierarchy\\n    .   @brief Finds contours in a binary image.\\n    .   \\n    .   The function retrieves contours from the binary image using the algorithm @cite Suzuki85 . The contours\\n    .   are a useful tool for shape analysis and object detection and recognition. See squares.cpp in the\\n    .   OpenCV sample directory.\\n    .   @note Since opencv 3.2 source image is not modified by this function.\\n    .   \\n    .   @param image Source, an 8-bit single-channel image. Non-zero pixels are treated as 1\\'s. Zero', metadata={'source': '/home/roy/Documents/Opencv/._folder_files_summary.txt'}),\n",
       "  Document(page_content=\"'/home/roy/Documents/Opencv/assets/cascades/haarcascade_smile.xml', '/home/roy/Documents/Opencv/assets/cascades/haarcascade_righteye_2splits.xml', '/home/roy/Documents/Opencv/assets/cascades/haarcascade_profileface.xml', '/home/roy/Documents/Opencv/assets/cascades/haarcascade_lowerbody.xml', '/home/roy/Documents/Opencv/assets/cascades/haarcascade_eye.xml', '/home/roy/Documents/Opencv/assets/cascades/haarcascade_frontalface_alt.xml', '/home/roy/Documents/Opencv/assets/cascades/haarcascade_russian_plate_number.xml', '/home/roy/Documents/Opencv/assets/cascades/haarcascade_fullbody.xml', '/home/roy/Documents/Opencv/assets/cascades/haarcascade_lefteye_2splits.xml', '/home/roy/Documents/Opencv/assets/cascades/haarcascade_eye_tree_eyeglasses.xml', '/home/roy/Documents/Opencv/assets/cascades/haarcascade_frontalcatface.xml']\", metadata={'source': '/home/roy/Documents/Opencv/.folder_structure.md'}),\n",
       "  Document(page_content='The following  below content are from the the given file:\\n            [\\n            filename: utilities.py\\n            filepath: /home/roy/Documents/Opencv/utilities.py\\n            content: [if os.path.isfile(path) and (path.split(\".\")[-1].split(\"/\")[-1] not in ignore[\"extension\"]) and (path.split(\"/\") not in ignore[\"file\"]):\\n        return path\\n    elif os.path.isdir(path) and path.split(\"/\")[-1] not in ignore[\"dir\"]:\\n        files = []\\n        for p in os.listdir(path):\\n            if os.path.isfile(os.path.join(path, p)) and (p.split(\".\")[-1].split(\"/\")[-1] not in ignore[\"extension\"]) and (p.split(\"/\")[-1] not in ignore[\"file\"]):\\n                files.append(os.path.join(path, p))\\n            elif os.path.isdir(os.path.join(path, p)) and p.split(\"/\")[-1] not in ignore[\"dir\"]:\\n                files.extend(Search2(os.path.join(path, p), ignore=ignore))\\n\\n        if not(relative):\\n            cwd = os.getcwd() + os.path.sep\\n            files = list(map(lambda x: cwd + x, files))', metadata={'source': '/home/roy/Documents/Opencv/._folder_files_summary.txt'})]}"
      ]
     },
     "execution_count": 172,
     "metadata": {},
     "output_type": "execute_result"
    }
   ],
   "source": [
    "result"
   ]
  },
  {
   "cell_type": "code",
   "execution_count": 173,
   "metadata": {},
   "outputs": [
    {
     "data": {
      "text/markdown": [
       "Hello Aniruddha!\n",
       "\n",
       "Based on the provided content, here is the tree structure of the OpenCV directory:\n",
       "\n",
       "```\n",
       "/home/roy/Documents/Opencv/\n",
       "├── .folder_structure.md\n",
       "├── 1_edges_and_gradients.ipynb\n",
       "├── 2_convolutions_and_morphological.ipynb\n",
       "├── 3_blurring_and_thresholding.ipynb\n",
       "├── 4_drawing_and_bitwise.ipynb\n",
       "├── 5_colour_detection.ipynb\n",
       "├── 6_contour_and_shape_detection.ipynb\n",
       "├── 7_mouse_events_and_wrap.ipynb\n",
       "├── 8_haarcascades.ipynb\n",
       "├── assets/\n",
       "│   ├── cascades/\n",
       "│   │   ├── haarcascade_eye.xml\n",
       "│   │   ├── haarcascade_eye_tree_eyeglasses.xml\n",
       "│   │   ├── haarcascade_frontalcatface.xml\n",
       "│   │   ├── haarcascade_frontalface_alt.xml\n",
       "│   │   ├── haarcascade_fullbody.xml\n",
       "│   │   ├── haarcascade_lefteye_2splits.xml\n",
       "│   │   ├── haarcascade_lowerbody.xml\n",
       "│   │   ├── haarcascade_profileface.xml\n",
       "│   │   ├── haarcascade_righteye_2splits.xml\n",
       "│   │   └── haarcascade_russian_plate_number.xml\n",
       "│   ├── doc.py\n",
       "│   ├── images/\n",
       "│   │   ├── cards.jpg\n",
       "│   │   ├── faces.jpg\n",
       "│   │   ├── rect.jpg\n",
       "│   │   └── shapes.jpg\n",
       "│   └── videos/\n",
       "│       ├── cars.avi\n",
       "│       ├── output.avi\n",
       "│       └── walking.avi\n",
       "├── utilities.py\n",
       "└── .ipynb_checkpoints/\n",
       "    ├── 6_contour_and_shape_detection-checkpoint.ipynb\n",
       "    └── ... (other checkpoint files)\n",
       "```\n",
       "\n",
       "Note: The `.ipynb_checkpoints` directory may contain more files, but they are not explicitly listed in the provided content. "
      ],
      "text/plain": [
       "<IPython.core.display.Markdown object>"
      ]
     },
     "metadata": {},
     "output_type": "display_data"
    }
   ],
   "source": [
    "question = \"Show me the whole tree structure of opencv directory make sure it include all the files even from subdirectories\"\n",
    "result = qa({\"question\": question})\n",
    "# memory.save_context({\"input\": result[\"chat_history\"][0::2]}, {\"output\": result[\"chat_history\"][1::2]})\n",
    "display_output(result=result['answer'])"
   ]
  },
  {
   "cell_type": "code",
   "execution_count": 176,
   "metadata": {},
   "outputs": [
    {
     "data": {
      "text/plain": [
       "langchain_core.messages.human.HumanMessage"
      ]
     },
     "execution_count": 176,
     "metadata": {},
     "output_type": "execute_result"
    }
   ],
   "source": [
    "type(result[\"chat_history\"][0])"
   ]
  },
  {
   "cell_type": "code",
   "execution_count": 142,
   "metadata": {},
   "outputs": [
    {
     "data": {
      "text/markdown": [
       "Hello Aniruddha!\n",
       "\n",
       "I'd be happy to help you with the tree structure of the OpenCV directory. Based on the provided file content, here is the tree structure:\n",
       "\n",
       "```\n",
       "/home/roy/Documents/Opencv/\n",
       "|- .folder_structure.md\n",
       "|- assets/\n",
       "|  |- doc.py\n",
       "|  |- images/\n",
       "|  |  |- shapes.jpg\n",
       "|  |  |- hello_noise_white.jpg\n",
       "|  |  |- examples kernels.png\n",
       "|  |- cascades/\n",
       "|  |  |- haarcascade_smile.xml\n",
       "|  |  |- haarcascade_righteye_2splits.xml\n",
       "|  |  |- haarcascade_profileface.xml\n",
       "|  |  |- haarcascade_lowerbody.xml\n",
       "|  |  |- haarcascade_eye.xml\n",
       "|  |  |- haarcascade_frontalface_alt.xml\n",
       "|  |  |- haarcascade_russian_plate_number.xml\n",
       "|  |  |- haarcascade_fullbody.xml\n",
       "|  |  |- haarcascade_lefteye_2splits.xml\n",
       "|  |  |- haarcascade_eye_tree_eyeglasses.xml\n",
       "|  |  |- haarcascade_frontalcatface.xml\n",
       "|- 2_convolutions_and_morphological.ipynb\n",
       "|- 6_contour_and_shape_detection-checkpoint.ipynb\n",
       "|- 8_haarcascades.ipynb\n",
       "|- utilities.py\n",
       "```\n",
       "\n",
       "I've included all the files and subdirectories mentioned in the provided content. Let me know if you have any further questions!\n",
       "\n",
       "And, yes, I remember your name: Aniruddha! "
      ],
      "text/plain": [
       "<IPython.core.display.Markdown object>"
      ]
     },
     "metadata": {},
     "output_type": "display_data"
    }
   ],
   "source": [
    "question = \"Now did you remember my name?\"\n",
    "result = qa({\"question\": question})\n",
    "display_output(result=result['answer'])"
   ]
  },
  {
   "cell_type": "code",
   "execution_count": 23,
   "metadata": {},
   "outputs": [
    {
     "data": {
      "text/markdown": [
       "Based on the provided file contents, here is the tree structure of the OpenCV directory:\n",
       "\n",
       "```\n",
       "/home/roy/Documents/Opencv/\n",
       "assets/\n",
       "doc.py\n",
       "folder_structure.md\n",
       "utilities.py\n",
       "2_convolutions_and_morphological.ipynb\n",
       "6_contour_and_shape_detection-checkpoint.ipynb\n",
       ".ipynb_checkpoints/\n",
       "6_contour_and_shape_detection-checkpoint.ipynb\n",
       "```\n",
       "\n",
       "Please note that this structure only includes the files and directories mentioned in the provided file contents. If there are other files or directories in the OpenCV directory, they are not included in this structure. "
      ],
      "text/plain": [
       "<IPython.core.display.Markdown object>"
      ]
     },
     "metadata": {},
     "output_type": "display_data"
    }
   ],
   "source": [
    "question = \"Again doing same thing why don't you show me whole structure?\"\n",
    "result = qa({\"question\": question})\n",
    "display_output(result=result['answer'])"
   ]
  },
  {
   "cell_type": "code",
   "execution_count": null,
   "metadata": {},
   "outputs": [],
   "source": []
  }
 ],
 "metadata": {
  "kernelspec": {
   "display_name": "PyTorch",
   "language": "python",
   "name": "python3"
  },
  "language_info": {
   "codemirror_mode": {
    "name": "ipython",
    "version": 3
   },
   "file_extension": ".py",
   "mimetype": "text/x-python",
   "name": "python",
   "nbconvert_exporter": "python",
   "pygments_lexer": "ipython3",
   "version": "3.1.undefined"
  },
  "orig_nbformat": 4
 },
 "nbformat": 4,
 "nbformat_minor": 2
}
